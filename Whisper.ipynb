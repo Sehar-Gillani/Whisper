{
  "cells": [
    {
      "cell_type": "markdown",
      "metadata": {
        "id": "view-in-github",
        "colab_type": "text"
      },
      "source": [
        "<a href=\"https://colab.research.google.com/github/Sehar-Gillani/Whisper/blob/main/Whisper.ipynb\" target=\"_parent\"><img src=\"https://colab.research.google.com/assets/colab-badge.svg\" alt=\"Open In Colab\"/></a>"
      ]
    },
    {
      "cell_type": "code",
      "source": [
        "!pip install camelot\n"
      ],
      "metadata": {
        "colab": {
          "base_uri": "https://localhost:8080/"
        },
        "id": "8YYjrH-Rgswr",
        "outputId": "34c565a0-e707-4c19-f81f-89c1a5272f8f"
      },
      "execution_count": null,
      "outputs": [
        {
          "output_type": "stream",
          "name": "stdout",
          "text": [
            "Looking in indexes: https://pypi.org/simple, https://us-python.pkg.dev/colab-wheels/public/simple/\n",
            "Collecting camelot\n",
            "  Downloading Camelot-12.06.29.tar.gz (3.5 MB)\n",
            "\u001b[K     |████████████████████████████████| 3.5 MB 35.1 MB/s \n",
            "\u001b[?25hCollecting SQLAlchemy<0.8.0,>=0.7.7\n",
            "  Downloading SQLAlchemy-0.7.10.tar.gz (3.5 MB)\n",
            "\u001b[K     |████████████████████████████████| 3.5 MB 28.2 MB/s \n",
            "\u001b[?25hCollecting Elixir>=0.7.1\n",
            "  Downloading Elixir-0.7.1.tar.gz (47 kB)\n",
            "\u001b[K     |████████████████████████████████| 47 kB 5.7 MB/s \n",
            "\u001b[?25hCollecting sqlalchemy-migrate>=0.7.1\n",
            "  Downloading sqlalchemy_migrate-0.13.0-py2.py3-none-any.whl (109 kB)\n",
            "\u001b[K     |████████████████████████████████| 109 kB 61.4 MB/s \n",
            "\u001b[?25hRequirement already satisfied: Jinja2>=2.5.5 in /usr/local/lib/python3.7/dist-packages (from camelot) (2.11.3)\n",
            "Requirement already satisfied: chardet>=1.0.1 in /usr/local/lib/python3.7/dist-packages (from camelot) (3.0.4)\n",
            "Collecting xlwt==0.7.2\n",
            "  Downloading xlwt-0.7.2.zip (131 kB)\n",
            "\u001b[K     |████████████████████████████████| 131 kB 74.0 MB/s \n",
            "\u001b[?25hCollecting xlrd==0.7.1\n",
            "  Downloading xlrd-0.7.1.zip (125 kB)\n",
            "\u001b[K     |████████████████████████████████| 125 kB 55.9 MB/s \n",
            "\u001b[?25hRequirement already satisfied: MarkupSafe>=0.23 in /usr/local/lib/python3.7/dist-packages (from Jinja2>=2.5.5->camelot) (2.0.1)\n",
            "Requirement already satisfied: six>=1.7.0 in /usr/local/lib/python3.7/dist-packages (from sqlalchemy-migrate>=0.7.1->camelot) (1.15.0)\n",
            "Collecting sqlalchemy-migrate>=0.7.1\n",
            "  Downloading sqlalchemy_migrate-0.12.0-py2.py3-none-any.whl (108 kB)\n",
            "\u001b[K     |████████████████████████████████| 108 kB 65.3 MB/s \n",
            "\u001b[?25h  Downloading sqlalchemy-migrate-0.11.0.tar.gz (128 kB)\n",
            "\u001b[K     |████████████████████████████████| 128 kB 63.0 MB/s \n",
            "\u001b[?25hCollecting pbr>=1.8\n",
            "  Using cached pbr-5.9.0-py2.py3-none-any.whl (112 kB)\n",
            "Requirement already satisfied: decorator in /usr/local/lib/python3.7/dist-packages (from sqlalchemy-migrate>=0.7.1->camelot) (4.4.2)\n",
            "Requirement already satisfied: sqlparse in /usr/local/lib/python3.7/dist-packages (from sqlalchemy-migrate>=0.7.1->camelot) (0.4.2)\n",
            "Collecting Tempita>=0.4\n",
            "  Downloading Tempita-0.5.2-py3-none-any.whl (12 kB)\n",
            "Building wheels for collected packages: camelot, xlrd, xlwt, Elixir, SQLAlchemy, sqlalchemy-migrate\n",
            "  Building wheel for camelot (setup.py) ... \u001b[?25l\u001b[?25hdone\n",
            "  Created wheel for camelot: filename=Camelot-12.6.29-py3-none-any.whl size=3919092 sha256=de93e3f3c55780a7a1b72c04e67a31da23d165dc22cc9cb5e1312893193eb91e\n",
            "  Stored in directory: /root/.cache/pip/wheels/c2/4c/60/72ff7d0da04298357923c606570ca35b470233f8810cb3030c\n",
            "  Building wheel for xlrd (setup.py) ... \u001b[?25l\u001b[?25hdone\n",
            "  Created wheel for xlrd: filename=xlrd-0.7.1-py3-none-any.whl size=117963 sha256=fa1aa878b948820981f9e6a339d4864b76ab8b2783383bb6a1edcb43b04cdef3\n",
            "  Stored in directory: /root/.cache/pip/wheels/ab/c8/2b/280a2f42fde2459872298da92a373483d9db35c092cb3ad010\n",
            "  Building wheel for xlwt (setup.py) ... \u001b[?25l\u001b[?25hdone\n",
            "  Created wheel for xlwt: filename=xlwt-0.7.2-py3-none-any.whl size=120227 sha256=e98ec45915af585c05815d67a64c6cc7682896ba3a94c30b3ca7cb3b84a5c981\n",
            "  Stored in directory: /root/.cache/pip/wheels/8d/45/d5/054d43529d665ccfdf2c096f66a5b7c5c1512fafa960c3b3ee\n",
            "  Building wheel for Elixir (setup.py) ... \u001b[?25l\u001b[?25hdone\n",
            "  Created wheel for Elixir: filename=Elixir-0.7.1-py3-none-any.whl size=53908 sha256=f508a5dfed7ef7484e0ab0288012e43064ccdadd44e60ecbc94d33984446837e\n",
            "  Stored in directory: /root/.cache/pip/wheels/9e/ad/80/a08c6d0b63ec1bbd128cdd1571d0fb1d692876434a59d1d1cc\n",
            "  Building wheel for SQLAlchemy (setup.py) ... \u001b[?25l\u001b[?25hdone\n",
            "  Created wheel for SQLAlchemy: filename=SQLAlchemy-0.7.10-py3-none-any.whl size=696626 sha256=9847bff646d9fc277022093c6bbeb60ebdce26875fb0215dcff334bec2894e3e\n",
            "  Stored in directory: /root/.cache/pip/wheels/85/34/2c/c2e1046d87bcde082cb952c5111830ea81802617b81132a7b5\n",
            "  Building wheel for sqlalchemy-migrate (setup.py) ... \u001b[?25l\u001b[?25hdone\n",
            "  Created wheel for sqlalchemy-migrate: filename=sqlalchemy_migrate-0.11.0-py3-none-any.whl size=108875 sha256=504086893284450d09f94a63e850f61166cd970c26d17be61ffcb8c51cf4c7f4\n",
            "  Stored in directory: /root/.cache/pip/wheels/b8/af/5d/cbdc083c2eda779575d22b5d15d7c6a8905e2b9b2c4a1a3da1\n",
            "Successfully built camelot xlrd xlwt Elixir SQLAlchemy sqlalchemy-migrate\n",
            "Installing collected packages: Tempita, SQLAlchemy, pbr, xlwt, xlrd, sqlalchemy-migrate, Elixir, camelot\n",
            "  Attempting uninstall: SQLAlchemy\n",
            "    Found existing installation: SQLAlchemy 1.4.37\n",
            "    Uninstalling SQLAlchemy-1.4.37:\n",
            "      Successfully uninstalled SQLAlchemy-1.4.37\n",
            "  Attempting uninstall: xlwt\n",
            "    Found existing installation: xlwt 1.3.0\n",
            "    Uninstalling xlwt-1.3.0:\n",
            "      Successfully uninstalled xlwt-1.3.0\n",
            "  Attempting uninstall: xlrd\n",
            "    Found existing installation: xlrd 1.1.0\n",
            "    Uninstalling xlrd-1.1.0:\n",
            "      Successfully uninstalled xlrd-1.1.0\n",
            "Successfully installed Elixir-0.7.1 SQLAlchemy-0.7.10 Tempita-0.5.2 camelot-12.6.29 pbr-5.9.0 sqlalchemy-migrate-0.11.0 xlrd-0.7.1 xlwt-0.7.2\n"
          ]
        }
      ]
    },
    {
      "cell_type": "code",
      "source": [
        "import camelot"
      ],
      "metadata": {
        "id": "lmhbcBFZgx58"
      },
      "execution_count": null,
      "outputs": []
    },
    {
      "cell_type": "code",
      "source": [
        "!pip install tk"
      ],
      "metadata": {
        "colab": {
          "base_uri": "https://localhost:8080/"
        },
        "id": "MYGuL_KBhCzj",
        "outputId": "1db31034-1158-4de8-a3ad-233637517dd0"
      },
      "execution_count": null,
      "outputs": [
        {
          "output_type": "stream",
          "name": "stdout",
          "text": [
            "Looking in indexes: https://pypi.org/simple, https://us-python.pkg.dev/colab-wheels/public/simple/\n",
            "Collecting tk\n",
            "  Downloading tk-0.1.0-py3-none-any.whl (3.9 kB)\n",
            "Installing collected packages: tk\n",
            "Successfully installed tk-0.1.0\n"
          ]
        }
      ]
    },
    {
      "cell_type": "code",
      "source": [
        "!pip install ghostscript"
      ],
      "metadata": {
        "colab": {
          "base_uri": "https://localhost:8080/"
        },
        "id": "Sv33V5cZhf4c",
        "outputId": "626baaf6-99e6-4210-ece4-fb834032f0ac"
      },
      "execution_count": null,
      "outputs": [
        {
          "output_type": "stream",
          "name": "stdout",
          "text": [
            "Looking in indexes: https://pypi.org/simple, https://us-python.pkg.dev/colab-wheels/public/simple/\n",
            "Collecting ghostscript\n",
            "  Downloading ghostscript-0.7-py2.py3-none-any.whl (25 kB)\n",
            "Requirement already satisfied: setuptools>=38.6.0 in /usr/local/lib/python3.7/dist-packages (from ghostscript) (57.4.0)\n",
            "Installing collected packages: ghostscript\n",
            "Successfully installed ghostscript-0.7\n"
          ]
        }
      ]
    },
    {
      "cell_type": "code",
      "source": [
        "!pip install camelot-py"
      ],
      "metadata": {
        "colab": {
          "base_uri": "https://localhost:8080/",
          "height": 627
        },
        "id": "QPZraptciche",
        "outputId": "2f8b08d1-4891-43f1-d6d7-0756c28b4ebe"
      },
      "execution_count": null,
      "outputs": [
        {
          "output_type": "stream",
          "name": "stdout",
          "text": [
            "Looking in indexes: https://pypi.org/simple, https://us-python.pkg.dev/colab-wheels/public/simple/\n",
            "Collecting camelot-py\n",
            "  Downloading camelot_py-0.10.1-py3-none-any.whl (40 kB)\n",
            "\u001b[K     |████████████████████████████████| 40 kB 32 kB/s \n",
            "\u001b[?25hRequirement already satisfied: click>=6.7 in /usr/local/lib/python3.7/dist-packages (from camelot-py) (7.1.2)\n",
            "Requirement already satisfied: chardet>=3.0.4 in /usr/local/lib/python3.7/dist-packages (from camelot-py) (3.0.4)\n",
            "Requirement already satisfied: tabulate>=0.8.9 in /usr/local/lib/python3.7/dist-packages (from camelot-py) (0.8.9)\n",
            "Requirement already satisfied: openpyxl>=2.5.8 in /usr/local/lib/python3.7/dist-packages (from camelot-py) (3.0.10)\n",
            "Collecting pdfminer.six>=20200726\n",
            "  Downloading pdfminer.six-20220524-py3-none-any.whl (5.6 MB)\n",
            "\u001b[K     |████████████████████████████████| 5.6 MB 48.6 MB/s \n",
            "\u001b[?25hRequirement already satisfied: pandas>=0.23.4 in /usr/local/lib/python3.7/dist-packages (from camelot-py) (1.3.5)\n",
            "Collecting PyPDF2>=1.26.0\n",
            "  Downloading PyPDF2-2.3.1-py3-none-any.whl (198 kB)\n",
            "\u001b[K     |████████████████████████████████| 198 kB 67.6 MB/s \n",
            "\u001b[?25hRequirement already satisfied: numpy>=1.13.3 in /usr/local/lib/python3.7/dist-packages (from camelot-py) (1.21.6)\n",
            "Requirement already satisfied: et-xmlfile in /usr/local/lib/python3.7/dist-packages (from openpyxl>=2.5.8->camelot-py) (1.1.0)\n",
            "Requirement already satisfied: python-dateutil>=2.7.3 in /usr/local/lib/python3.7/dist-packages (from pandas>=0.23.4->camelot-py) (2.8.2)\n",
            "Requirement already satisfied: pytz>=2017.3 in /usr/local/lib/python3.7/dist-packages (from pandas>=0.23.4->camelot-py) (2022.1)\n",
            "Collecting cryptography>=36.0.0\n",
            "  Downloading cryptography-37.0.2-cp36-abi3-manylinux_2_24_x86_64.whl (4.0 MB)\n",
            "\u001b[K     |████████████████████████████████| 4.0 MB 58.1 MB/s \n",
            "\u001b[?25hRequirement already satisfied: charset-normalizer>=2.0.0 in /usr/local/lib/python3.7/dist-packages (from pdfminer.six>=20200726->camelot-py) (2.0.12)\n",
            "Requirement already satisfied: cffi>=1.12 in /usr/local/lib/python3.7/dist-packages (from cryptography>=36.0.0->pdfminer.six>=20200726->camelot-py) (1.15.0)\n",
            "Requirement already satisfied: pycparser in /usr/local/lib/python3.7/dist-packages (from cffi>=1.12->cryptography>=36.0.0->pdfminer.six>=20200726->camelot-py) (2.21)\n",
            "Requirement already satisfied: typing-extensions in /usr/local/lib/python3.7/dist-packages (from PyPDF2>=1.26.0->camelot-py) (4.1.1)\n",
            "Requirement already satisfied: six>=1.5 in /usr/local/lib/python3.7/dist-packages (from python-dateutil>=2.7.3->pandas>=0.23.4->camelot-py) (1.15.0)\n",
            "Installing collected packages: cryptography, PyPDF2, pdfminer.six, camelot-py\n",
            "Successfully installed PyPDF2-2.3.1 camelot-py-0.10.1 cryptography-37.0.2 pdfminer.six-20220524\n"
          ]
        },
        {
          "output_type": "display_data",
          "data": {
            "application/vnd.colab-display-data+json": {
              "pip_warning": {
                "packages": [
                  "camelot"
                ]
              }
            }
          },
          "metadata": {}
        }
      ]
    },
    {
      "cell_type": "code",
      "source": [
        "tables = camelot.read_pdf(r\"/content/00104.pdf\", pages='1', flavor = 'stream')"
      ],
      "metadata": {
        "id": "hl0LZv5CikN4"
      },
      "execution_count": null,
      "outputs": []
    },
    {
      "cell_type": "code",
      "source": [
        "!pip uninstall camelot"
      ],
      "metadata": {
        "colab": {
          "base_uri": "https://localhost:8080/"
        },
        "id": "KLvRGR7LiuOR",
        "outputId": "92055cf3-c252-4404-dc40-f9ed3475ecaa"
      },
      "execution_count": null,
      "outputs": [
        {
          "output_type": "stream",
          "name": "stdout",
          "text": [
            "Found existing installation: Camelot 12.6.29\n",
            "Uninstalling Camelot-12.6.29:\n",
            "  Would remove:\n",
            "    /usr/local/bin/camelot_admin\n",
            "    /usr/local/bin/camelot_example\n",
            "    /usr/local/bin/camelot_mini_example\n",
            "    /usr/local/lib/python3.7/dist-packages/Camelot-12.6.29.dist-info/*\n",
            "    /usr/local/lib/python3.7/dist-packages/camelot/*\n",
            "    /usr/local/lib/python3.7/dist-packages/camelot_example/*\n",
            "    /usr/local/lib/python3.7/dist-packages/doc/sphinx/source/_static/action_button.png\n",
            "    /usr/local/lib/python3.7/dist-packages/doc/sphinx/source/_static/admin_classes.png\n",
            "    /usr/local/lib/python3.7/dist-packages/doc/sphinx/source/_static/budget.png\n",
            "    /usr/local/lib/python3.7/dist-packages/doc/sphinx/source/_static/camelot-new-project.png\n",
            "    /usr/local/lib/python3.7/dist-packages/doc/sphinx/source/_static/camelot_qt_linguist.png\n",
            "    /usr/local/lib/python3.7/dist-packages/doc/sphinx/source/_static/collection_proxy.png\n",
            "    /usr/local/lib/python3.7/dist-packages/doc/sphinx/source/_static/color.png\n",
            "    /usr/local/lib/python3.7/dist-packages/doc/sphinx/source/_static/cpd_installer.png\n",
            "    /usr/local/lib/python3.7/dist-packages/doc/sphinx/source/_static/editors/ChartEditor_disabled.png\n",
            "    /usr/local/lib/python3.7/dist-packages/doc/sphinx/source/_static/editors/ChartEditor_editable.png\n",
            "    /usr/local/lib/python3.7/dist-packages/doc/sphinx/source/_static/enumeration.png\n",
            "    /usr/local/lib/python3.7/dist-packages/doc/sphinx/source/_static/field_attributes.png\n",
            "    /usr/local/lib/python3.7/dist-packages/doc/sphinx/source/_static/file_delegate.png\n",
            "    /usr/local/lib/python3.7/dist-packages/doc/sphinx/source/_static/final_report.png\n",
            "    /usr/local/lib/python3.7/dist-packages/doc/sphinx/source/_static/image.png\n",
            "    /usr/local/lib/python3.7/dist-packages/doc/sphinx/source/_static/interval_column_delegate.png\n",
            "    /usr/local/lib/python3.7/dist-packages/doc/sphinx/source/_static/main-window.png\n",
            "    /usr/local/lib/python3.7/dist-packages/doc/sphinx/source/_static/manytomany.png\n",
            "    /usr/local/lib/python3.7/dist-packages/doc/sphinx/source/_static/manytoone.png\n",
            "    /usr/local/lib/python3.7/dist-packages/doc/sphinx/source/_static/movie-table.png\n",
            "    /usr/local/lib/python3.7/dist-packages/doc/sphinx/source/_static/navigation-pane.png\n",
            "    /usr/local/lib/python3.7/dist-packages/doc/sphinx/source/_static/new-form.png\n",
            "    /usr/local/lib/python3.7/dist-packages/doc/sphinx/source/_static/new-record.png\n",
            "    /usr/local/lib/python3.7/dist-packages/doc/sphinx/source/_static/onetomany.png\n",
            "    /usr/local/lib/python3.7/dist-packages/doc/sphinx/source/_static/picture1.png\n",
            "    /usr/local/lib/python3.7/dist-packages/doc/sphinx/source/_static/picture2.png\n",
            "    /usr/local/lib/python3.7/dist-packages/doc/sphinx/source/_static/picture3.png\n",
            "    /usr/local/lib/python3.7/dist-packages/doc/sphinx/source/_static/picture4.png\n",
            "    /usr/local/lib/python3.7/dist-packages/doc/sphinx/source/_static/picture5.png\n",
            "    /usr/local/lib/python3.7/dist-packages/doc/sphinx/source/_static/picture6.png\n",
            "    /usr/local/lib/python3.7/dist-packages/doc/sphinx/source/_static/picture7.png\n",
            "    /usr/local/lib/python3.7/dist-packages/doc/sphinx/source/_static/picture8.png\n",
            "    /usr/local/lib/python3.7/dist-packages/doc/sphinx/source/_static/plaintext.png\n",
            "    /usr/local/lib/python3.7/dist-packages/doc/sphinx/source/_static/rating.png\n",
            "    /usr/local/lib/python3.7/dist-packages/doc/sphinx/source/_static/richtext.png\n",
            "    /usr/local/lib/python3.7/dist-packages/doc/sphinx/source/_static/simple_report.png\n",
            "    /usr/local/lib/python3.7/dist-packages/doc/sphinx/source/_static/spyder-new-project.png\n",
            "    /usr/local/lib/python3.7/dist-packages/doc/sphinx/source/_static/start-spyder.png\n",
            "    /usr/local/lib/python3.7/dist-packages/doc/sphinx/source/_static/table-view.png\n",
            "    /usr/local/lib/python3.7/dist-packages/doc/sphinx/source/_static/template_document_word.png\n",
            "    /usr/local/lib/python3.7/dist-packages/doc/sphinx/source/_static/template_document_word_save_as.png\n",
            "    /usr/local/lib/python3.7/dist-packages/doc/sphinx/source/_static/toolbar.png\n",
            "    /usr/local/lib/python3.7/dist-packages/doc/sphinx/source/_static/unittest_dream.png\n",
            "    /usr/local/lib/python3.7/dist-packages/doc/sphinx/source/_static/virtualaddress_editor.png\n",
            "    /usr/local/lib/python3.7/dist-packages/doc/sphinx/source/_templates/layout.html\n",
            "    /usr/local/lib/python3.7/dist-packages/doc/sphinx/source/advanced/debug.rst\n",
            "    /usr/local/lib/python3.7/dist-packages/doc/sphinx/source/advanced/deployment.rst\n",
            "    /usr/local/lib/python3.7/dist-packages/doc/sphinx/source/advanced/development.rst\n",
            "    /usr/local/lib/python3.7/dist-packages/doc/sphinx/source/advanced/i18n.rst\n",
            "    /usr/local/lib/python3.7/dist-packages/doc/sphinx/source/advanced/index.rst\n",
            "    /usr/local/lib/python3.7/dist-packages/doc/sphinx/source/advanced/permissions.rst\n",
            "    /usr/local/lib/python3.7/dist-packages/doc/sphinx/source/advanced/unittests.rst\n",
            "    /usr/local/lib/python3.7/dist-packages/doc/sphinx/source/cep/actions_new.rst\n",
            "    /usr/local/lib/python3.7/dist-packages/doc/sphinx/source/cep/index.rst\n",
            "    /usr/local/lib/python3.7/dist-packages/doc/sphinx/source/cep/table_view.rst\n",
            "    /usr/local/lib/python3.7/dist-packages/doc/sphinx/source/contents.rst\n",
            "    /usr/local/lib/python3.7/dist-packages/doc/sphinx/source/copyright.rst\n",
            "    /usr/local/lib/python3.7/dist-packages/doc/sphinx/source/doc/actions.rst\n",
            "    /usr/local/lib/python3.7/dist-packages/doc/sphinx/source/doc/admin.rst\n",
            "    /usr/local/lib/python3.7/dist-packages/doc/sphinx/source/doc/application_admin.rst\n",
            "    /usr/local/lib/python3.7/dist-packages/doc/sphinx/source/doc/calculated_fields.rst\n",
            "    /usr/local/lib/python3.7/dist-packages/doc/sphinx/source/doc/charts.rst\n",
            "    /usr/local/lib/python3.7/dist-packages/doc/sphinx/source/doc/data_model.rst\n",
            "    /usr/local/lib/python3.7/dist-packages/doc/sphinx/source/doc/delegates.rst\n",
            "    /usr/local/lib/python3.7/dist-packages/doc/sphinx/source/doc/documents.rst\n",
            "    /usr/local/lib/python3.7/dist-packages/doc/sphinx/source/doc/entity_admin.rst\n",
            "    /usr/local/lib/python3.7/dist-packages/doc/sphinx/source/doc/faq.rst\n",
            "    /usr/local/lib/python3.7/dist-packages/doc/sphinx/source/doc/field_attributes.rst\n",
            "    /usr/local/lib/python3.7/dist-packages/doc/sphinx/source/doc/fields.rst\n",
            "    /usr/local/lib/python3.7/dist-packages/doc/sphinx/source/doc/fixtures.rst\n",
            "    /usr/local/lib/python3.7/dist-packages/doc/sphinx/source/doc/forms.rst\n",
            "    /usr/local/lib/python3.7/dist-packages/doc/sphinx/source/doc/index.rst\n",
            "    /usr/local/lib/python3.7/dist-packages/doc/sphinx/source/doc/install.rst\n",
            "    /usr/local/lib/python3.7/dist-packages/doc/sphinx/source/doc/manage.rst\n",
            "    /usr/local/lib/python3.7/dist-packages/doc/sphinx/source/doc/models.rst\n",
            "    /usr/local/lib/python3.7/dist-packages/doc/sphinx/source/doc/object_admin.rst\n",
            "    /usr/local/lib/python3.7/dist-packages/doc/sphinx/source/doc/reports.rst\n",
            "    /usr/local/lib/python3.7/dist-packages/doc/sphinx/source/doc/schemas.rst\n",
            "    /usr/local/lib/python3.7/dist-packages/doc/sphinx/source/doc/shortcuts.rst\n",
            "    /usr/local/lib/python3.7/dist-packages/doc/sphinx/source/doc/threads.rst\n",
            "    /usr/local/lib/python3.7/dist-packages/doc/sphinx/source/doc/under_the_hood.rst\n",
            "    /usr/local/lib/python3.7/dist-packages/doc/sphinx/source/doc/validators.rst\n",
            "    /usr/local/lib/python3.7/dist-packages/doc/sphinx/source/doc/views.rst\n",
            "    /usr/local/lib/python3.7/dist-packages/doc/sphinx/source/index.rst\n",
            "    /usr/local/lib/python3.7/dist-packages/doc/sphinx/source/license.rst\n",
            "    /usr/local/lib/python3.7/dist-packages/doc/sphinx/source/migrate/11-12-30.rst\n",
            "    /usr/local/lib/python3.7/dist-packages/doc/sphinx/source/migrate/index.rst\n",
            "    /usr/local/lib/python3.7/dist-packages/doc/sphinx/source/news.rst\n",
            "    /usr/local/lib/python3.7/dist-packages/doc/sphinx/source/tutorial/importer.rst\n",
            "    /usr/local/lib/python3.7/dist-packages/doc/sphinx/source/tutorial/index.rst\n",
            "    /usr/local/lib/python3.7/dist-packages/doc/sphinx/source/tutorial/reporting.rst\n",
            "    /usr/local/lib/python3.7/dist-packages/doc/sphinx/source/tutorial/videostore.rst\n",
            "    /usr/local/lib/python3.7/dist-packages/test/*\n",
            "  Would not remove (might be manually added):\n",
            "    /usr/local/lib/python3.7/dist-packages/camelot/__main__.py\n",
            "    /usr/local/lib/python3.7/dist-packages/camelot/__version__.py\n",
            "    /usr/local/lib/python3.7/dist-packages/camelot/backends/__init__.py\n",
            "    /usr/local/lib/python3.7/dist-packages/camelot/backends/ghostscript_backend.py\n",
            "    /usr/local/lib/python3.7/dist-packages/camelot/backends/image_conversion.py\n",
            "    /usr/local/lib/python3.7/dist-packages/camelot/backends/poppler_backend.py\n",
            "    /usr/local/lib/python3.7/dist-packages/camelot/cli.py\n",
            "    /usr/local/lib/python3.7/dist-packages/camelot/core.py\n",
            "    /usr/local/lib/python3.7/dist-packages/camelot/handlers.py\n",
            "    /usr/local/lib/python3.7/dist-packages/camelot/image_processing.py\n",
            "    /usr/local/lib/python3.7/dist-packages/camelot/io.py\n",
            "    /usr/local/lib/python3.7/dist-packages/camelot/parsers/__init__.py\n",
            "    /usr/local/lib/python3.7/dist-packages/camelot/parsers/base.py\n",
            "    /usr/local/lib/python3.7/dist-packages/camelot/parsers/lattice.py\n",
            "    /usr/local/lib/python3.7/dist-packages/camelot/parsers/stream.py\n",
            "    /usr/local/lib/python3.7/dist-packages/camelot/plotting.py\n",
            "    /usr/local/lib/python3.7/dist-packages/camelot/utils.py\n",
            "Proceed (y/n)? y\n",
            "  Successfully uninstalled Camelot-12.6.29\n"
          ]
        }
      ]
    },
    {
      "cell_type": "code",
      "source": [
        "print(tables)"
      ],
      "metadata": {
        "colab": {
          "base_uri": "https://localhost:8080/"
        },
        "id": "_daqD4b4uEAk",
        "outputId": "ae315dec-e6ee-4290-95f7-2c9125181424"
      },
      "execution_count": null,
      "outputs": [
        {
          "output_type": "stream",
          "name": "stdout",
          "text": [
            "<TableList n=1>\n"
          ]
        }
      ]
    },
    {
      "cell_type": "code",
      "source": [
        "tables.export('00104.csv', f= 'csv', compress= True)"
      ],
      "metadata": {
        "id": "rRGIpBb3ukxM"
      },
      "execution_count": null,
      "outputs": []
    },
    {
      "cell_type": "code",
      "source": [
        "tables[0].to_csv('00104.csv')"
      ],
      "metadata": {
        "id": "-PBxk6MYuk5g"
      },
      "execution_count": null,
      "outputs": []
    },
    {
      "cell_type": "code",
      "source": [
        "print(tables + \"sehar\")"
      ],
      "metadata": {
        "colab": {
          "base_uri": "https://localhost:8080/",
          "height": 169
        },
        "id": "_dtXaEjXvC5h",
        "outputId": "73b24f17-05ae-4a42-bc3d-89d276bea205"
      },
      "execution_count": 1,
      "outputs": [
        {
          "output_type": "error",
          "ename": "NameError",
          "evalue": "ignored",
          "traceback": [
            "\u001b[0;31m---------------------------------------------------------------------------\u001b[0m",
            "\u001b[0;31mNameError\u001b[0m                                 Traceback (most recent call last)",
            "\u001b[0;32m<ipython-input-1-78e6153598e8>\u001b[0m in \u001b[0;36m<module>\u001b[0;34m\u001b[0m\n\u001b[0;32m----> 1\u001b[0;31m \u001b[0mprint\u001b[0m\u001b[0;34m(\u001b[0m\u001b[0mtables\u001b[0m \u001b[0;34m+\u001b[0m \u001b[0;34m\"sehar\"\u001b[0m\u001b[0;34m)\u001b[0m\u001b[0;34m\u001b[0m\u001b[0;34m\u001b[0m\u001b[0m\n\u001b[0m",
            "\u001b[0;31mNameError\u001b[0m: name 'tables' is not defined"
          ]
        }
      ]
    },
    {
      "cell_type": "code",
      "source": [
        "!pip install camelot-py[cv]"
      ],
      "metadata": {
        "colab": {
          "base_uri": "https://localhost:8080/"
        },
        "id": "ojrW4Qn7jSmq",
        "outputId": "572576e2-79ab-4b0e-cca4-232e69dfd796"
      },
      "execution_count": null,
      "outputs": [
        {
          "output_type": "stream",
          "name": "stdout",
          "text": [
            "Looking in indexes: https://pypi.org/simple, https://us-python.pkg.dev/colab-wheels/public/simple/\n",
            "Requirement already satisfied: camelot-py[cv] in /usr/local/lib/python3.7/dist-packages (0.10.1)\n",
            "Requirement already satisfied: tabulate>=0.8.9 in /usr/local/lib/python3.7/dist-packages (from camelot-py[cv]) (0.8.9)\n",
            "Requirement already satisfied: chardet>=3.0.4 in /usr/local/lib/python3.7/dist-packages (from camelot-py[cv]) (3.0.4)\n",
            "Requirement already satisfied: click>=6.7 in /usr/local/lib/python3.7/dist-packages (from camelot-py[cv]) (7.1.2)\n",
            "Requirement already satisfied: numpy>=1.13.3 in /usr/local/lib/python3.7/dist-packages (from camelot-py[cv]) (1.21.6)\n",
            "Requirement already satisfied: pdfminer.six>=20200726 in /usr/local/lib/python3.7/dist-packages (from camelot-py[cv]) (20220524)\n",
            "Requirement already satisfied: PyPDF2>=1.26.0 in /usr/local/lib/python3.7/dist-packages (from camelot-py[cv]) (2.3.1)\n",
            "Requirement already satisfied: pandas>=0.23.4 in /usr/local/lib/python3.7/dist-packages (from camelot-py[cv]) (1.3.5)\n",
            "Requirement already satisfied: openpyxl>=2.5.8 in /usr/local/lib/python3.7/dist-packages (from camelot-py[cv]) (3.0.10)\n",
            "Collecting pdftopng>=0.2.3\n",
            "  Downloading pdftopng-0.2.3-cp37-cp37m-manylinux2010_x86_64.whl (11.7 MB)\n",
            "\u001b[K     |████████████████████████████████| 11.7 MB 20.6 MB/s \n",
            "\u001b[?25hRequirement already satisfied: ghostscript>=0.7 in /usr/local/lib/python3.7/dist-packages (from camelot-py[cv]) (0.7)\n",
            "Requirement already satisfied: opencv-python>=3.4.2.17 in /usr/local/lib/python3.7/dist-packages (from camelot-py[cv]) (4.1.2.30)\n",
            "Requirement already satisfied: setuptools>=38.6.0 in /usr/local/lib/python3.7/dist-packages (from ghostscript>=0.7->camelot-py[cv]) (57.4.0)\n",
            "Requirement already satisfied: et-xmlfile in /usr/local/lib/python3.7/dist-packages (from openpyxl>=2.5.8->camelot-py[cv]) (1.1.0)\n",
            "Requirement already satisfied: pytz>=2017.3 in /usr/local/lib/python3.7/dist-packages (from pandas>=0.23.4->camelot-py[cv]) (2022.1)\n",
            "Requirement already satisfied: python-dateutil>=2.7.3 in /usr/local/lib/python3.7/dist-packages (from pandas>=0.23.4->camelot-py[cv]) (2.8.2)\n",
            "Requirement already satisfied: cryptography>=36.0.0 in /usr/local/lib/python3.7/dist-packages (from pdfminer.six>=20200726->camelot-py[cv]) (37.0.2)\n",
            "Requirement already satisfied: charset-normalizer>=2.0.0 in /usr/local/lib/python3.7/dist-packages (from pdfminer.six>=20200726->camelot-py[cv]) (2.0.12)\n",
            "Requirement already satisfied: cffi>=1.12 in /usr/local/lib/python3.7/dist-packages (from cryptography>=36.0.0->pdfminer.six>=20200726->camelot-py[cv]) (1.15.0)\n",
            "Requirement already satisfied: pycparser in /usr/local/lib/python3.7/dist-packages (from cffi>=1.12->cryptography>=36.0.0->pdfminer.six>=20200726->camelot-py[cv]) (2.21)\n",
            "Requirement already satisfied: typing-extensions in /usr/local/lib/python3.7/dist-packages (from PyPDF2>=1.26.0->camelot-py[cv]) (4.1.1)\n",
            "Requirement already satisfied: six>=1.5 in /usr/local/lib/python3.7/dist-packages (from python-dateutil>=2.7.3->pandas>=0.23.4->camelot-py[cv]) (1.15.0)\n",
            "Installing collected packages: pdftopng\n",
            "Successfully installed pdftopng-0.2.3\n"
          ]
        }
      ]
    },
    {
      "cell_type": "code",
      "source": [
        "!pip install camelot-py[all]"
      ],
      "metadata": {
        "colab": {
          "base_uri": "https://localhost:8080/"
        },
        "id": "cpx0bEw6jZ3Y",
        "outputId": "b928afd9-91fd-4da3-8ba4-03403f603b6c"
      },
      "execution_count": null,
      "outputs": [
        {
          "output_type": "stream",
          "name": "stdout",
          "text": [
            "Looking in indexes: https://pypi.org/simple, https://us-python.pkg.dev/colab-wheels/public/simple/\n",
            "Requirement already satisfied: camelot-py[all] in /usr/local/lib/python3.7/dist-packages (0.10.1)\n",
            "Requirement already satisfied: numpy>=1.13.3 in /usr/local/lib/python3.7/dist-packages (from camelot-py[all]) (1.21.6)\n",
            "Requirement already satisfied: PyPDF2>=1.26.0 in /usr/local/lib/python3.7/dist-packages (from camelot-py[all]) (2.3.1)\n",
            "Requirement already satisfied: tabulate>=0.8.9 in /usr/local/lib/python3.7/dist-packages (from camelot-py[all]) (0.8.9)\n",
            "Requirement already satisfied: chardet>=3.0.4 in /usr/local/lib/python3.7/dist-packages (from camelot-py[all]) (3.0.4)\n",
            "Requirement already satisfied: pdfminer.six>=20200726 in /usr/local/lib/python3.7/dist-packages (from camelot-py[all]) (20220524)\n",
            "Requirement already satisfied: click>=6.7 in /usr/local/lib/python3.7/dist-packages (from camelot-py[all]) (7.1.2)\n",
            "Requirement already satisfied: pandas>=0.23.4 in /usr/local/lib/python3.7/dist-packages (from camelot-py[all]) (1.3.5)\n",
            "Requirement already satisfied: openpyxl>=2.5.8 in /usr/local/lib/python3.7/dist-packages (from camelot-py[all]) (3.0.10)\n",
            "Requirement already satisfied: opencv-python>=3.4.2.17 in /usr/local/lib/python3.7/dist-packages (from camelot-py[all]) (4.1.2.30)\n",
            "Requirement already satisfied: matplotlib>=2.2.3 in /usr/local/lib/python3.7/dist-packages (from camelot-py[all]) (3.2.2)\n",
            "Requirement already satisfied: ghostscript>=0.7 in /usr/local/lib/python3.7/dist-packages (from camelot-py[all]) (0.7)\n",
            "Requirement already satisfied: pdftopng>=0.2.3 in /usr/local/lib/python3.7/dist-packages (from camelot-py[all]) (0.2.3)\n",
            "Requirement already satisfied: setuptools>=38.6.0 in /usr/local/lib/python3.7/dist-packages (from ghostscript>=0.7->camelot-py[all]) (57.4.0)\n",
            "Requirement already satisfied: kiwisolver>=1.0.1 in /usr/local/lib/python3.7/dist-packages (from matplotlib>=2.2.3->camelot-py[all]) (1.4.3)\n",
            "Requirement already satisfied: cycler>=0.10 in /usr/local/lib/python3.7/dist-packages (from matplotlib>=2.2.3->camelot-py[all]) (0.11.0)\n",
            "Requirement already satisfied: pyparsing!=2.0.4,!=2.1.2,!=2.1.6,>=2.0.1 in /usr/local/lib/python3.7/dist-packages (from matplotlib>=2.2.3->camelot-py[all]) (3.0.9)\n",
            "Requirement already satisfied: python-dateutil>=2.1 in /usr/local/lib/python3.7/dist-packages (from matplotlib>=2.2.3->camelot-py[all]) (2.8.2)\n",
            "Requirement already satisfied: typing-extensions in /usr/local/lib/python3.7/dist-packages (from kiwisolver>=1.0.1->matplotlib>=2.2.3->camelot-py[all]) (4.1.1)\n",
            "Requirement already satisfied: et-xmlfile in /usr/local/lib/python3.7/dist-packages (from openpyxl>=2.5.8->camelot-py[all]) (1.1.0)\n",
            "Requirement already satisfied: pytz>=2017.3 in /usr/local/lib/python3.7/dist-packages (from pandas>=0.23.4->camelot-py[all]) (2022.1)\n",
            "Requirement already satisfied: cryptography>=36.0.0 in /usr/local/lib/python3.7/dist-packages (from pdfminer.six>=20200726->camelot-py[all]) (37.0.2)\n",
            "Requirement already satisfied: charset-normalizer>=2.0.0 in /usr/local/lib/python3.7/dist-packages (from pdfminer.six>=20200726->camelot-py[all]) (2.0.12)\n",
            "Requirement already satisfied: cffi>=1.12 in /usr/local/lib/python3.7/dist-packages (from cryptography>=36.0.0->pdfminer.six>=20200726->camelot-py[all]) (1.15.0)\n",
            "Requirement already satisfied: pycparser in /usr/local/lib/python3.7/dist-packages (from cffi>=1.12->cryptography>=36.0.0->pdfminer.six>=20200726->camelot-py[all]) (2.21)\n",
            "Requirement already satisfied: six>=1.5 in /usr/local/lib/python3.7/dist-packages (from python-dateutil>=2.1->matplotlib>=2.2.3->camelot-py[all]) (1.15.0)\n"
          ]
        }
      ]
    },
    {
      "cell_type": "code",
      "source": [
        "import camelot.io as camelot"
      ],
      "metadata": {
        "id": "TfpxpfwtjdEf"
      },
      "execution_count": null,
      "outputs": []
    }
  ],
  "metadata": {
    "accelerator": "GPU",
    "colab": {
      "collapsed_sections": [],
      "provenance": [],
      "authorship_tag": "ABX9TyOftEa7Qa7dCjYLm8ru12IB",
      "include_colab_link": true
    },
    "kernelspec": {
      "display_name": "Python 3",
      "name": "python3"
    },
    "language_info": {
      "name": "python"
    }
  },
  "nbformat": 4,
  "nbformat_minor": 0
}